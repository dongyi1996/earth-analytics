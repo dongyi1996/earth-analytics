{
 "cells": [
  {
   "cell_type": "markdown",
   "metadata": {},
   "source": [
    "# MODIS data dowloading and processing\n",
    "\n",
    "## Required python libraries\n",
    "\n",
    "glob, requests, gdal (gdal installation: brew install gdal, which does not include hdf4 driver)\n",
    "\n",
    "\n",
    "## Building hdf4 driver on mac\n",
    "\n",
    "1. get hdf-4.2.10.tar.gz (https://support.hdfgroup.org/ftp/HDF/releases/HDF4.2.10/src/hdf-4.2.10.tar.gz)\n",
    "2. unzip hdf-4.2.10.tar.gz and go into the directory\n",
    "3. cd hdf-4.2.10 && ./configure --disable-fortran --enable-production --enable-shared --disable-netcdf --with-zlib=/usr --with-jpeg=/usr/local --prefix=/usr/local/hdf4\n",
    "4. make >& make.out\n",
    "5. make check >& check.out\n",
    "6. make install\n",
    "\n",
    "\n",
    "## Building pyhdf4 wrapper on mac\n",
    "\n",
    "1. export INCLUDE_DIRS=/usr/local/hdf4/include (make sure consist with the hdf configuration)\n",
    "2. export LIBRARY_DIRS=/usr/local/hdf4/lib (make sure consist with the hdf configuration)\n",
    "3. pip3 install pyhdf\n",
    "\n",
    "\n",
    "## Utility file - maskmodis.py\n",
    "\n",
    "The file was modified from pymasker (hdf4 file was read by pyhdf4) and the copyright should belong to the original authors. Specific procedure of QA masking, please read https://stevemosher.wordpress.com/2012/12/05/modis-qc-bits/\n",
    "\n",
    "\n",
    "## Utility file - downmodis.py\n",
    "\n",
    "The file was modified from pyModis.downmodis and the copyright should belong to the original authors"
   ]
  },
  {
   "cell_type": "code",
   "execution_count": 171,
   "metadata": {},
   "outputs": [],
   "source": [
    "# define a class for processing modis 1km LST\n",
    "\n",
    "from pyhdf.SD import SD, SDC\n",
    "from utils import parsemodis\n",
    "from utils.maskmodis import ModisQuality, Masker\n",
    "import matplotlib.pyplot as plt\n",
    "import earthpy.plot as ep\n",
    "\n",
    "class getModisLST_1km():\n",
    "    \n",
    "    def __init__(self, MODIS_file, prefix, lats, longs):\n",
    "        \n",
    "        self.MODIS_file = MODIS_file\n",
    "        self.lats = lats\n",
    "        self.longs = longs\n",
    "        self.modisParser = parsemodis.parseModis(MODIS_file)\n",
    "        self.prefix = prefix\n",
    "        \n",
    "        quality = ModisQuality.high # set quality to high\n",
    "        file = SD(MODIS_file, SDC.READ) # open hdf4 file\n",
    "        # read data according prefix\n",
    "        if prefix == 'Day':\n",
    "            # get day time temperature\n",
    "            self.data = file.select('LST_Day_1km').get()\n",
    "            masker = Masker(band=MODIS_file, band_name='QC_Day')\n",
    "        elif prefix == 'Night':\n",
    "            # get night time temperature\n",
    "            self.data = file.select('LST_Night_1km').get()\n",
    "            masker = Masker(band=MODIS_file, band_name='QC_Night')\n",
    "        else:\n",
    "            print('Prefix can only be Day or Night')\n",
    "            return(0)\n",
    "        self.mask = masker.get_mask(0, 2, quality).astype(int) # QA mask\n",
    "        \n",
    "        \n",
    "    def printBands(self):\n",
    "        file = SD(self.MODIS_file, SDC.READ)\n",
    "        datasets_dic = file.datasets()\n",
    "        for idx,sds in enumerate(datasets_dic.keys()):\n",
    "            print(idx,sds)\n",
    "        \n",
    "        \n",
    "    def runQC(self):\n",
    "        return self.data * self.mask\n",
    "    \n",
    "    \n",
    "    def plotQC(self):\n",
    "        plt.figure(figsize=(20,10))\n",
    "        im = plt.imshow(self.mask)\n",
    "        ep.colorbar(im)\n",
    "        plt.show()\n",
    "        \n",
    "        \n",
    "    def plotData(self):\n",
    "        plt.figure(figsize=(20,10))\n",
    "        im = plt.imshow(self.data)\n",
    "        ep.colorbar(im)\n",
    "        plt.show()\n",
    "    \n",
    "    \n",
    "    def toCelsius(self, modis_data):\n",
    "        modis_data = (modis_data * 1.0) # convert into float\n",
    "        modis_data[np.where(modis_data == 0)] = np.nan # set invalided value to nan\n",
    "        modis_data = modis_data * 0.02 - 273.15 # convert to celsius\n",
    "        return modis_data\n",
    "            \n",
    "\n",
    "    def getVal(self, modis_data):\n",
    "        # get geoinformation\n",
    "        bound = self.modisParser.retBoundary()\n",
    "        long_res = (bound['max_lon'] - bound['min_lon']) / self.data.shape[1] # col - x\n",
    "        lat_res = (bound['max_lat'] - bound['min_lat']) / self.data.shape[0] # row - y\n",
    "\n",
    "        # retreive value based on lat/long\n",
    "        rows = ((bound['max_lat'] - np.array(lats)) / lat_res).astype(int)\n",
    "        cols = ((np.array(longs) - bound['min_lon']) / long_res).astype(int)\n",
    "        \n",
    "        # return value from modis_data\n",
    "        return [modis_data[(row, col)] for row, col in zip(rows, cols)]\n",
    "    \n",
    "    \n",
    "    def createVarName(self):\n",
    "        # define name of the column\n",
    "        time_range = self.modisParser.retRangeTime()\n",
    "        return self.prefix+'_'+time_range['RangeBeginningDate']+'_'+time_range['RangeEndingDate']\n",
    "    \n",
    "    \n",
    "    def getLST_QC(self):\n",
    "        modis_data = self.runQC()\n",
    "        modis_data = self.toCelsius(modis_data)\n",
    "        return self.getVal(modis_data)\n",
    "        \n",
    "        \n",
    "    def getLST(self):\n",
    "        modis_data = self.toCelsius(self.data)\n",
    "        return self.getVal(modis_data)\n",
    "        "
   ]
  },
  {
   "cell_type": "code",
   "execution_count": 15,
   "metadata": {},
   "outputs": [],
   "source": [
    "# import downmodis, which is modified from pyMODIS code\n",
    "from utilities import downmodis"
   ]
  },
  {
   "cell_type": "code",
   "execution_count": 13,
   "metadata": {},
   "outputs": [
    {
     "name": "stdout",
     "output_type": "stream",
     "text": [
      "['data/MOD11A2.A2016161.h11v04.006.2016242164334.hdf', 'data/MOD11A2.A2016265.h11v04.006.2016274190024.hdf', 'data/MOD11A2.A2016177.h11v04.006.2016242171048.hdf', 'data/MOD11A2.A2016225.h11v04.006.2016244043027.hdf', 'data/MOD11A2.A2016185.h11v04.006.2016242172459.hdf', 'data/MOD11A2.A2016257.h11v04.006.2016267020253.hdf', 'data/MOD11A2.A2016209.h11v04.006.2016243094426.hdf', 'data/MOD11A2.A2016217.h11v04.006.2016243195226.hdf', 'data/MOD11A2.A2016193.h11v04.006.2016242175058.hdf', 'data/MOD11A2.A2016241.h11v04.006.2016252204234.hdf', 'data/MOD11A2.A2016169.h11v04.006.2016242165624.hdf', 'data/MOD11A2.A2016153.h11v04.006.2016242163427.hdf', 'data/MOD11A2.A2016249.h11v04.006.2016258072147.hdf', 'data/MOD11A2.A2016233.h11v04.006.2016252174937.hdf', 'data/MOD11A2.A2016201.h11v04.006.2016242234119.hdf', 'data/MOD11A2.A2016273.h11v04.006.2016282072743.hdf']\n"
     ]
    }
   ],
   "source": [
    "# Variables for data download\n",
    "dest = \"data/\" # This directory must already exist BTW\n",
    "tiles = \"h11v04\" # That's the MODIS tile covering northern Europe\n",
    "day = \"2016.06.01\"\n",
    "enddate = \"2016.09.30\" # The download works backward, so that enddate is anterior to day=\n",
    "product = \"MOD11A2.006\"\n",
    "\n",
    "# Instantiate download class, connect and download\n",
    "modis_down = downmodis.downModis(destinationFolder=dest, tiles=tiles, today=day, enddate=enddate, product=product)\n",
    "modis_down.connect()\n",
    "modis_down.downloadsAllDay()\n",
    "\n",
    "# Check that the data has been downloaded\n",
    "MODIS_files = glob.glob(dest + '*.hdf')\n",
    "print(MODIS_files)"
   ]
  },
  {
   "cell_type": "code",
   "execution_count": 173,
   "metadata": {},
   "outputs": [
    {
     "data": {
      "text/plain": [
       "[35.710000000000036, 19.890000000000043]"
      ]
     },
     "execution_count": 173,
     "metadata": {},
     "output_type": "execute_result"
    }
   ],
   "source": [
    "# extract value from all the hdfs\n",
    "import pandas as pd\n",
    "\n",
    "\n",
    "# read file, extract lats and longs, then using the loop to extract the values\n",
    "\n",
    "for iFile in MODIS_files:\n",
    "    modisLST = getModisLST_1km(MODIS_files[0], 'Day', lats, longs)\n",
    "    var_name = modisLST.createVarName()\n",
    "    modisLST.getLST()"
   ]
  },
  {
   "cell_type": "code",
   "execution_count": null,
   "metadata": {},
   "outputs": [],
   "source": []
  }
 ],
 "metadata": {
  "kernelspec": {
   "display_name": "Python 3",
   "language": "python",
   "name": "python3"
  },
  "language_info": {
   "codemirror_mode": {
    "name": "ipython",
    "version": 3
   },
   "file_extension": ".py",
   "mimetype": "text/x-python",
   "name": "python",
   "nbconvert_exporter": "python",
   "pygments_lexer": "ipython3",
   "version": "3.7.5"
  }
 },
 "nbformat": 4,
 "nbformat_minor": 2
}
